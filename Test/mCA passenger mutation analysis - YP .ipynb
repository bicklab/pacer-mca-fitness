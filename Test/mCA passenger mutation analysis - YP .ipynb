{
 "cells": [
  {
   "cell_type": "code",
   "execution_count": 1,
   "metadata": {},
   "outputs": [],
   "source": [
    "import pandas as pd\n",
    "import matplotlib.pyplot as plt\n",
    "%matplotlib inline\n",
    "from collections import defaultdict\n",
    "import statistics as stats\n",
    "from collections import Counter\n",
    "from scipy.stats import fisher_exact, yeojohnson\n",
    "import numpy as np\n",
    "import seaborn as sns\n",
    "from scipy.stats import f_oneway, ttest_ind, pearsonr\n",
    "from sklearn.preprocessing import normalize\n",
    "from sklearn.linear_model import LinearRegression\n",
    "import pickle\n",
    "import statsmodels.api as sm\n",
    "import statsmodels.formula.api as smf"
   ]
  },
  {
   "cell_type": "markdown",
   "metadata": {},
   "source": [
    "# Chromosomes by length"
   ]
  },
  {
   "cell_type": "markdown",
   "metadata": {},
   "source": [
    "Source - https://www.ncbi.nlm.nih.gov/grc/human/data"
   ]
  },
  {
   "cell_type": "code",
   "execution_count": 2,
   "metadata": {},
   "outputs": [
    {
     "name": "stdout",
     "output_type": "stream",
     "text": [
      "Copying gs://fc-secure-827e3d9c-02b8-499f-91af-c2142b7d2074/mCA_pacer/chr_lengths.csv...\n",
      "/ [1 files][  318.0 B/  318.0 B]                                                \n",
      "Operation completed over 1 objects/318.0 B.                                      \n"
     ]
    }
   ],
   "source": [
    "! gsutil cp gs://fc-secure-827e3d9c-02b8-499f-91af-c2142b7d2074/mCA_pacer/chr_lengths.csv ."
   ]
  },
  {
   "cell_type": "code",
   "execution_count": 3,
   "metadata": {},
   "outputs": [],
   "source": [
    "chr_length_df = pd.read_csv('chr_lengths.csv', header = None)\n",
    "\n",
    "chr_length_dict = pd.Series(pd.to_numeric(chr_length_df[1].values),index=chr_length_df[0]).to_dict()"
   ]
  },
  {
   "cell_type": "markdown",
   "metadata": {},
   "source": [
    "# Importing mocha for mCAs"
   ]
  },
  {
   "cell_type": "code",
   "execution_count": 4,
   "metadata": {},
   "outputs": [
    {
     "name": "stdout",
     "output_type": "stream",
     "text": [
      "Copying gs://fc-secure-827e3d9c-02b8-499f-91af-c2142b7d2074/mCA_pacer/long.mocha.filtered.csv...\n",
      "/ [1 files][  1.2 MiB/  1.2 MiB]                                                \n",
      "Operation completed over 1 objects/1.2 MiB.                                      \n"
     ]
    }
   ],
   "source": [
    "! gsutil cp gs://fc-secure-827e3d9c-02b8-499f-91af-c2142b7d2074/mCA_pacer/long.mocha.filtered.csv ."
   ]
  },
  {
   "cell_type": "code",
   "execution_count": 5,
   "metadata": {},
   "outputs": [],
   "source": [
    "mocha_df = pd.read_csv(\"long.mocha.filtered.csv\", sep = '\\t')"
   ]
  },
  {
   "cell_type": "code",
   "execution_count": 6,
   "metadata": {},
   "outputs": [
    {
     "data": {
      "text/html": [
       "<div>\n",
       "<style scoped>\n",
       "    .dataframe tbody tr th:only-of-type {\n",
       "        vertical-align: middle;\n",
       "    }\n",
       "\n",
       "    .dataframe tbody tr th {\n",
       "        vertical-align: top;\n",
       "    }\n",
       "\n",
       "    .dataframe thead th {\n",
       "        text-align: right;\n",
       "    }\n",
       "</style>\n",
       "<table border=\"1\" class=\"dataframe\">\n",
       "  <thead>\n",
       "    <tr style=\"text-align: right;\">\n",
       "      <th></th>\n",
       "      <th>sample_id</th>\n",
       "      <th>computed_gender</th>\n",
       "      <th>chrom</th>\n",
       "      <th>beg_GRCh38</th>\n",
       "      <th>end_GRCh38</th>\n",
       "      <th>length</th>\n",
       "      <th>p_arm</th>\n",
       "      <th>q_arm</th>\n",
       "      <th>n_sites</th>\n",
       "      <th>n_hets</th>\n",
       "      <th>...</th>\n",
       "      <th>bdev_se</th>\n",
       "      <th>rel_cov</th>\n",
       "      <th>rel_cov_se</th>\n",
       "      <th>lod_lrr_baf</th>\n",
       "      <th>lod_baf_phase</th>\n",
       "      <th>n_flips</th>\n",
       "      <th>baf_conc</th>\n",
       "      <th>lod_baf_conc</th>\n",
       "      <th>type</th>\n",
       "      <th>cf</th>\n",
       "    </tr>\n",
       "  </thead>\n",
       "  <tbody>\n",
       "    <tr>\n",
       "      <th>0</th>\n",
       "      <td>NWD100095</td>\n",
       "      <td>FALSE</td>\n",
       "      <td>chrX</td>\n",
       "      <td>76029422</td>\n",
       "      <td>156004717</td>\n",
       "      <td>79975295</td>\n",
       "      <td>N</td>\n",
       "      <td>T</td>\n",
       "      <td>23749</td>\n",
       "      <td>23749</td>\n",
       "      <td>...</td>\n",
       "      <td>0.0006</td>\n",
       "      <td>2.1476</td>\n",
       "      <td>0.0025</td>\n",
       "      <td>0.00</td>\n",
       "      <td>12.47</td>\n",
       "      <td>2</td>\n",
       "      <td>0.5031</td>\n",
       "      <td>0.12</td>\n",
       "      <td>Gain</td>\n",
       "      <td>0.0195</td>\n",
       "    </tr>\n",
       "    <tr>\n",
       "      <th>1</th>\n",
       "      <td>NWD100109</td>\n",
       "      <td>FALSE</td>\n",
       "      <td>chrX</td>\n",
       "      <td>0</td>\n",
       "      <td>156005065</td>\n",
       "      <td>156005065</td>\n",
       "      <td>T</td>\n",
       "      <td>T</td>\n",
       "      <td>29590</td>\n",
       "      <td>29590</td>\n",
       "      <td>...</td>\n",
       "      <td>0.0005</td>\n",
       "      <td>2.0804</td>\n",
       "      <td>0.0021</td>\n",
       "      <td>0.00</td>\n",
       "      <td>50.74</td>\n",
       "      <td>10</td>\n",
       "      <td>0.5104</td>\n",
       "      <td>2.30</td>\n",
       "      <td>Gain</td>\n",
       "      <td>0.0357</td>\n",
       "    </tr>\n",
       "    <tr>\n",
       "      <th>2</th>\n",
       "      <td>NWD100133</td>\n",
       "      <td>FALSE</td>\n",
       "      <td>chrX</td>\n",
       "      <td>0</td>\n",
       "      <td>156008488</td>\n",
       "      <td>156008488</td>\n",
       "      <td>T</td>\n",
       "      <td>T</td>\n",
       "      <td>31676</td>\n",
       "      <td>31676</td>\n",
       "      <td>...</td>\n",
       "      <td>0.0005</td>\n",
       "      <td>1.9159</td>\n",
       "      <td>0.0022</td>\n",
       "      <td>0.00</td>\n",
       "      <td>9.16</td>\n",
       "      <td>3</td>\n",
       "      <td>0.5014</td>\n",
       "      <td>0.01</td>\n",
       "      <td>Loss</td>\n",
       "      <td>0.0162</td>\n",
       "    </tr>\n",
       "    <tr>\n",
       "      <th>3</th>\n",
       "      <td>NWD100227</td>\n",
       "      <td>FALSE</td>\n",
       "      <td>chrX</td>\n",
       "      <td>0</td>\n",
       "      <td>156007047</td>\n",
       "      <td>156007047</td>\n",
       "      <td>T</td>\n",
       "      <td>T</td>\n",
       "      <td>45344</td>\n",
       "      <td>45344</td>\n",
       "      <td>...</td>\n",
       "      <td>0.0004</td>\n",
       "      <td>1.9563</td>\n",
       "      <td>0.0018</td>\n",
       "      <td>0.00</td>\n",
       "      <td>23.90</td>\n",
       "      <td>10</td>\n",
       "      <td>0.5027</td>\n",
       "      <td>0.09</td>\n",
       "      <td>Loss</td>\n",
       "      <td>0.0241</td>\n",
       "    </tr>\n",
       "    <tr>\n",
       "      <th>4</th>\n",
       "      <td>NWD100329</td>\n",
       "      <td>FALSE</td>\n",
       "      <td>chrX</td>\n",
       "      <td>0</td>\n",
       "      <td>156006895</td>\n",
       "      <td>156006895</td>\n",
       "      <td>T</td>\n",
       "      <td>T</td>\n",
       "      <td>37661</td>\n",
       "      <td>37661</td>\n",
       "      <td>...</td>\n",
       "      <td>0.0005</td>\n",
       "      <td>1.9472</td>\n",
       "      <td>0.0021</td>\n",
       "      <td>0.00</td>\n",
       "      <td>46.44</td>\n",
       "      <td>4</td>\n",
       "      <td>0.5008</td>\n",
       "      <td>0.03</td>\n",
       "      <td>Loss</td>\n",
       "      <td>0.0308</td>\n",
       "    </tr>\n",
       "    <tr>\n",
       "      <th>...</th>\n",
       "      <td>...</td>\n",
       "      <td>...</td>\n",
       "      <td>...</td>\n",
       "      <td>...</td>\n",
       "      <td>...</td>\n",
       "      <td>...</td>\n",
       "      <td>...</td>\n",
       "      <td>...</td>\n",
       "      <td>...</td>\n",
       "      <td>...</td>\n",
       "      <td>...</td>\n",
       "      <td>...</td>\n",
       "      <td>...</td>\n",
       "      <td>...</td>\n",
       "      <td>...</td>\n",
       "      <td>...</td>\n",
       "      <td>...</td>\n",
       "      <td>...</td>\n",
       "      <td>...</td>\n",
       "      <td>...</td>\n",
       "      <td>...</td>\n",
       "    </tr>\n",
       "    <tr>\n",
       "      <th>10110</th>\n",
       "      <td>NWD999511</td>\n",
       "      <td>FALSE</td>\n",
       "      <td>chr11</td>\n",
       "      <td>86216910</td>\n",
       "      <td>135076140</td>\n",
       "      <td>48859230</td>\n",
       "      <td>N</td>\n",
       "      <td>T</td>\n",
       "      <td>15370</td>\n",
       "      <td>15370</td>\n",
       "      <td>...</td>\n",
       "      <td>0.0012</td>\n",
       "      <td>2.0017</td>\n",
       "      <td>0.0032</td>\n",
       "      <td>1750.57</td>\n",
       "      <td>4327.75</td>\n",
       "      <td>45</td>\n",
       "      <td>0.8076</td>\n",
       "      <td>1307.77</td>\n",
       "      <td>CN-LOH</td>\n",
       "      <td>0.2211</td>\n",
       "    </tr>\n",
       "    <tr>\n",
       "      <th>10111</th>\n",
       "      <td>NWD999511</td>\n",
       "      <td>FALSE</td>\n",
       "      <td>chrX</td>\n",
       "      <td>0</td>\n",
       "      <td>155698490</td>\n",
       "      <td>155698490</td>\n",
       "      <td>T</td>\n",
       "      <td>T</td>\n",
       "      <td>30375</td>\n",
       "      <td>30375</td>\n",
       "      <td>...</td>\n",
       "      <td>0.0006</td>\n",
       "      <td>1.9430</td>\n",
       "      <td>0.0023</td>\n",
       "      <td>0.00</td>\n",
       "      <td>14.43</td>\n",
       "      <td>7</td>\n",
       "      <td>0.4982</td>\n",
       "      <td>0.26</td>\n",
       "      <td>Loss</td>\n",
       "      <td>0.0253</td>\n",
       "    </tr>\n",
       "    <tr>\n",
       "      <th>10112</th>\n",
       "      <td>NWD999572</td>\n",
       "      <td>FALSE</td>\n",
       "      <td>chrX</td>\n",
       "      <td>0</td>\n",
       "      <td>156000685</td>\n",
       "      <td>156000685</td>\n",
       "      <td>T</td>\n",
       "      <td>T</td>\n",
       "      <td>28225</td>\n",
       "      <td>28225</td>\n",
       "      <td>...</td>\n",
       "      <td>0.0006</td>\n",
       "      <td>1.9670</td>\n",
       "      <td>0.0024</td>\n",
       "      <td>0.00</td>\n",
       "      <td>24.93</td>\n",
       "      <td>5</td>\n",
       "      <td>0.5046</td>\n",
       "      <td>0.24</td>\n",
       "      <td>Loss</td>\n",
       "      <td>0.0275</td>\n",
       "    </tr>\n",
       "    <tr>\n",
       "      <th>10113</th>\n",
       "      <td>NWD999849</td>\n",
       "      <td>FALSE</td>\n",
       "      <td>chrX</td>\n",
       "      <td>0</td>\n",
       "      <td>155999869</td>\n",
       "      <td>155999869</td>\n",
       "      <td>T</td>\n",
       "      <td>T</td>\n",
       "      <td>27039</td>\n",
       "      <td>27039</td>\n",
       "      <td>...</td>\n",
       "      <td>0.0005</td>\n",
       "      <td>2.0557</td>\n",
       "      <td>0.0023</td>\n",
       "      <td>0.00</td>\n",
       "      <td>80.56</td>\n",
       "      <td>13</td>\n",
       "      <td>0.5124</td>\n",
       "      <td>2.38</td>\n",
       "      <td>Gain</td>\n",
       "      <td>0.0486</td>\n",
       "    </tr>\n",
       "    <tr>\n",
       "      <th>10114</th>\n",
       "      <td>NWD999977</td>\n",
       "      <td>U</td>\n",
       "      <td>chr22</td>\n",
       "      <td>20181844</td>\n",
       "      <td>50752450</td>\n",
       "      <td>30570606</td>\n",
       "      <td>N</td>\n",
       "      <td>T</td>\n",
       "      <td>9649</td>\n",
       "      <td>9649</td>\n",
       "      <td>...</td>\n",
       "      <td>0.0010</td>\n",
       "      <td>2.0053</td>\n",
       "      <td>0.0041</td>\n",
       "      <td>0.93</td>\n",
       "      <td>67.23</td>\n",
       "      <td>14</td>\n",
       "      <td>0.5263</td>\n",
       "      <td>4.95</td>\n",
       "      <td>CN-LOH</td>\n",
       "      <td>0.0387</td>\n",
       "    </tr>\n",
       "  </tbody>\n",
       "</table>\n",
       "<p>10115 rows × 22 columns</p>\n",
       "</div>"
      ],
      "text/plain": [
       "       sample_id computed_gender  chrom  beg_GRCh38  end_GRCh38     length  \\\n",
       "0      NWD100095           FALSE   chrX    76029422   156004717   79975295   \n",
       "1      NWD100109           FALSE   chrX           0   156005065  156005065   \n",
       "2      NWD100133           FALSE   chrX           0   156008488  156008488   \n",
       "3      NWD100227           FALSE   chrX           0   156007047  156007047   \n",
       "4      NWD100329           FALSE   chrX           0   156006895  156006895   \n",
       "...          ...             ...    ...         ...         ...        ...   \n",
       "10110  NWD999511           FALSE  chr11    86216910   135076140   48859230   \n",
       "10111  NWD999511           FALSE   chrX           0   155698490  155698490   \n",
       "10112  NWD999572           FALSE   chrX           0   156000685  156000685   \n",
       "10113  NWD999849           FALSE   chrX           0   155999869  155999869   \n",
       "10114  NWD999977               U  chr22    20181844    50752450   30570606   \n",
       "\n",
       "      p_arm q_arm  n_sites  n_hets  ...  bdev_se  rel_cov  rel_cov_se  \\\n",
       "0         N     T    23749   23749  ...   0.0006   2.1476      0.0025   \n",
       "1         T     T    29590   29590  ...   0.0005   2.0804      0.0021   \n",
       "2         T     T    31676   31676  ...   0.0005   1.9159      0.0022   \n",
       "3         T     T    45344   45344  ...   0.0004   1.9563      0.0018   \n",
       "4         T     T    37661   37661  ...   0.0005   1.9472      0.0021   \n",
       "...     ...   ...      ...     ...  ...      ...      ...         ...   \n",
       "10110     N     T    15370   15370  ...   0.0012   2.0017      0.0032   \n",
       "10111     T     T    30375   30375  ...   0.0006   1.9430      0.0023   \n",
       "10112     T     T    28225   28225  ...   0.0006   1.9670      0.0024   \n",
       "10113     T     T    27039   27039  ...   0.0005   2.0557      0.0023   \n",
       "10114     N     T     9649    9649  ...   0.0010   2.0053      0.0041   \n",
       "\n",
       "       lod_lrr_baf  lod_baf_phase  n_flips  baf_conc  lod_baf_conc    type  \\\n",
       "0             0.00          12.47        2    0.5031          0.12    Gain   \n",
       "1             0.00          50.74       10    0.5104          2.30    Gain   \n",
       "2             0.00           9.16        3    0.5014          0.01    Loss   \n",
       "3             0.00          23.90       10    0.5027          0.09    Loss   \n",
       "4             0.00          46.44        4    0.5008          0.03    Loss   \n",
       "...            ...            ...      ...       ...           ...     ...   \n",
       "10110      1750.57        4327.75       45    0.8076       1307.77  CN-LOH   \n",
       "10111         0.00          14.43        7    0.4982          0.26    Loss   \n",
       "10112         0.00          24.93        5    0.5046          0.24    Loss   \n",
       "10113         0.00          80.56       13    0.5124          2.38    Gain   \n",
       "10114         0.93          67.23       14    0.5263          4.95  CN-LOH   \n",
       "\n",
       "           cf  \n",
       "0      0.0195  \n",
       "1      0.0357  \n",
       "2      0.0162  \n",
       "3      0.0241  \n",
       "4      0.0308  \n",
       "...       ...  \n",
       "10110  0.2211  \n",
       "10111  0.0253  \n",
       "10112  0.0275  \n",
       "10113  0.0486  \n",
       "10114  0.0387  \n",
       "\n",
       "[10115 rows x 22 columns]"
      ]
     },
     "execution_count": 6,
     "metadata": {},
     "output_type": "execute_result"
    }
   ],
   "source": [
    "mocha_df"
   ]
  },
  {
   "cell_type": "code",
   "execution_count": 7,
   "metadata": {},
   "outputs": [
    {
     "name": "stderr",
     "output_type": "stream",
     "text": [
      "/opt/conda/lib/python3.7/site-packages/ipykernel_launcher.py:28: SettingWithCopyWarning: \n",
      "A value is trying to be set on a copy of a slice from a DataFrame.\n",
      "Try using .loc[row_indexer,col_indexer] = value instead\n",
      "\n",
      "See the caveats in the documentation: https://pandas.pydata.org/pandas-docs/stable/user_guide/indexing.html#returning-a-view-versus-a-copy\n"
     ]
    }
   ],
   "source": [
    "#Add necessary columns to mocha_df\n",
    "mocha_df['q_arm_bool'] = False\n",
    "mocha_df.loc[(mocha_df['q_arm'] == 'T'),'q_arm_bool'] = True\n",
    "mocha_df.loc[(mocha_df['q_arm'] == 'Y'),'q_arm_bool'] = True\n",
    "mocha_df.loc[(mocha_df['q_arm'] == 'TRUE'),'q_arm_bool'] = True\n",
    "mocha_df['p_arm_bool'] = False\n",
    "mocha_df.loc[(mocha_df['p_arm'] == 'T'),'p_arm_bool'] = True\n",
    "mocha_df.loc[(mocha_df['p_arm'] == 'Y'),'p_arm_bool'] = True\n",
    "mocha_df.loc[(mocha_df['p_arm'] == 'TRUE'),'p_arm_bool'] = True\n",
    "mocha_df['botharms_bool'] = False\n",
    "mocha_df.loc[(mocha_df['p_arm_bool']==True) & (mocha_df['q_arm_bool']==True), 'botharms_bool'] = True\n",
    "mocha_df['arm_short'] = ''\n",
    "mocha_df.loc[((mocha_df['p_arm_bool']) == True & (mocha_df['q_arm_bool']==False)),'arm_short'] = 'p'\n",
    "mocha_df.loc[((mocha_df['p_arm_bool']) == False & (mocha_df['q_arm_bool']==True)),'arm_short'] = 'q'\n",
    "mocha_df.loc[(mocha_df['botharms_bool'] == True),'arm_short'] = ''\n",
    "\n",
    "mocha_df['type_short'] = \"U\"\n",
    "mocha_df.loc[mocha_df['type'] == 'Gain', 'type_short'] = \"+\"\n",
    "mocha_df.loc[mocha_df['type'] == 'Loss', 'type_short'] = \"-\"\n",
    "mocha_df.loc[mocha_df['type'] == 'CN-LOH', 'type_short'] = \"=\"\n",
    "\n",
    "mocha_df['mca'] = mocha_df['type'] + \" in \" + mocha_df['chrom']\n",
    "mocha_df['chrom_short'] = mocha_df['chrom'].str.replace(\"chr\",\"\")\n",
    "mocha_df['mca_short'] = mocha_df['chrom_short'] + mocha_df['type_short']\n",
    "mocha_df['mca_short_arm'] = mocha_df['chrom_short'] + mocha_df['arm_short'] + mocha_df['type_short']\n",
    "\n",
    "mocha_df_nochrx = mocha_df[mocha_df['chrom'] != 'chrX']\n",
    "mocha_df_nochrx['chrom_short'] = pd.to_numeric(mocha_df_nochrx['chrom_short'])"
   ]
  },
  {
   "cell_type": "code",
   "execution_count": 8,
   "metadata": {},
   "outputs": [],
   "source": [
    "def clean_mca(df):\n",
    "    mocha_dict_by_id = defaultdict(set)\n",
    "    mocha_dict_by_id_short = defaultdict(set)\n",
    "    mocha_dict_by_id_arm_short = defaultdict(set)\n",
    "    mocha_cf_dict = dict()\n",
    "\n",
    "    for index, row in df.iterrows():\n",
    "        mca = str(row['type'] + \" in \" + row['chrom'])\n",
    "        mocha_dict_by_id[row['sample_id']].add(mca)\n",
    "        mocha_dict_by_id_short[row['sample_id']].add(row['mca_short'])\n",
    "        mocha_dict_by_id_arm_short[row['sample_id']].add(row['mca_short_arm'])\n",
    "        mocha_cf_dict[row['sample_id']] = row['cf']\n",
    "    \n",
    "    more_than_one_mca = 0\n",
    "    keys = []\n",
    "    mcas = []\n",
    "    mcas_short = []\n",
    "    cfs = []\n",
    "    mcas_short_arm = []\n",
    "    single_mca_enrichment = []\n",
    "    mult_mca_enrichment = []\n",
    "    for key, value in mocha_dict_by_id.items():\n",
    "        if len(value) < 2:\n",
    "            single_mca_enrichment.append(list(value)[0])\n",
    "            keys.append(key)\n",
    "            mcas.append(', '.join(value))\n",
    "            mcas_short.append(','.join(mocha_dict_by_id_short[key]))\n",
    "            cfs.append(mocha_cf_dict[key])\n",
    "            mcas_short_arm.append(', '. join(mocha_dict_by_id_arm_short[key]))\n",
    "        else: \n",
    "            more_than_one_mca = more_than_one_mca+1\n",
    "            mult_mca_enrichment.extend(value)\n",
    "\n",
    "\n",
    "    mca_string_df = pd.DataFrame(zip(keys,mcas,mcas_short,cfs, mcas_short_arm), \n",
    "                                 columns = ['sample.id', 'mCAs','mCA', 'cf', 'mCA w arm'])\n",
    "    \n",
    "    print(str(more_than_one_mca) + \" pts had > 1 mCA and were thus excluded\")\n",
    "    return mca_string_df"
   ]
  },
  {
   "cell_type": "code",
   "execution_count": 9,
   "metadata": {},
   "outputs": [
    {
     "name": "stdout",
     "output_type": "stream",
     "text": [
      "763 pts had > 1 mCA and were thus excluded\n",
      "376 pts had > 1 mCA and were thus excluded\n"
     ]
    }
   ],
   "source": [
    "mocha_clean_df = clean_mca(mocha_df)\n",
    "mocha_clean_nochrx_df = clean_mca(mocha_df_nochrx)"
   ]
  },
  {
   "cell_type": "code",
   "execution_count": 10,
   "metadata": {},
   "outputs": [],
   "source": [
    "mca_chr_dict = pd.Series(mocha_clean_nochrx_df['mCA'].values,index=mocha_clean_nochrx_df['sample.id']).to_dict()"
   ]
  },
  {
   "cell_type": "markdown",
   "metadata": {},
   "source": [
    "# Importing updated topmed data for passenger mutations "
   ]
  },
  {
   "cell_type": "code",
   "execution_count": 11,
   "metadata": {},
   "outputs": [
    {
     "name": "stdout",
     "output_type": "stream",
     "text": [
      "Copying gs://fc-b7cd8c47-767b-4eda-b456-736a92f723ac/data/singletons_spark_2021_05_25.parquet...\n",
      "- [1 files][615.1 MiB/615.1 MiB]   40.0 MiB/s                                   \n",
      "Operation completed over 1 objects/615.1 MiB.                                    \n"
     ]
    }
   ],
   "source": [
    "!gsutil cp gs://fc-b7cd8c47-767b-4eda-b456-736a92f723ac/data/singletons_spark_2021_05_25.parquet ."
   ]
  },
  {
   "cell_type": "code",
   "execution_count": 12,
   "metadata": {},
   "outputs": [],
   "source": [
    "topmed_df = pd.read_parquet('singletons_spark_2021_05_25.parquet')\n",
    "topmed_ct_df = topmed_df[((topmed_df.REF == \"C\") & (topmed_df.ALT == \"T\")) | ((topmed_df.REF == \"T\") & (topmed_df.ALT == \"C\"))]"
   ]
  },
  {
   "cell_type": "markdown",
   "metadata": {},
   "source": [
    "## Get passenger mutations by chr for pts with 1 mCA"
   ]
  },
  {
   "cell_type": "code",
   "execution_count": 13,
   "metadata": {},
   "outputs": [],
   "source": [
    "def get_pass_mut_by_chr(pass_df, mca_df):\n",
    "    pass_mut_dict = {}\n",
    "    for nwdid in list(mca_df['sample.id'].unique()):\n",
    "        pass_mut_dict[nwdid] = defaultdict(int)\n",
    "        for chrom in range(1, 23):\n",
    "            pass_mut_dict[nwdid][chrom] = 0\n",
    "    print('Made dictionary')\n",
    "    pass_mca_df = pass_df[pass_df['NWD_ID'].isin(list(mca_df['sample.id'].unique()))]\n",
    "    for index, row in pass_mca_df.iterrows():\n",
    "        if row['CHROM'] != 23: \n",
    "            pass_mut_dict[row['NWD_ID']][row['CHROM']] += 1\n",
    "#     for nwdid in list(mca_df['sample.id'].unique()):\n",
    "#         chr_group_df = pd.DataFrame(pass_df[pass_df['NWD_ID'] == nwdid].groupby('CHROM').describe())\n",
    "#         if len(chr_group_df) > 1:\n",
    "#             chrom_count_df = pd.DataFrame(chr_group_df['POS']['count'])\n",
    "#         pass_mut_dict[nwdid] = pd.Series(chrom_count_df['count'].values,index=chrom_count_df.index).to_dict()\n",
    "    return pass_mut_dict"
   ]
  },
  {
   "cell_type": "code",
   "execution_count": 14,
   "metadata": {},
   "outputs": [
    {
     "name": "stdout",
     "output_type": "stream",
     "text": [
      "Made dictionary\n"
     ]
    }
   ],
   "source": [
    "pass_mut_dict_bychr_mca = get_pass_mut_by_chr(topmed_ct_df, mocha_clean_nochrx_df)"
   ]
  },
  {
   "cell_type": "markdown",
   "metadata": {},
   "source": [
    "## Calculate passenger mutations on mCA chromosomes vs not"
   ]
  },
  {
   "cell_type": "code",
   "execution_count": 15,
   "metadata": {},
   "outputs": [],
   "source": [
    "mca_or_nonmca_status = []\n",
    "mcas = []\n",
    "passengers = []\n",
    "passengers_per_bp = []\n",
    "for nwdid in list(mocha_clean_nochrx_df['sample.id'].unique()):\n",
    "    mca = mca_chr_dict[nwdid]\n",
    "    mca_chr = (mca_chr_dict[nwdid])[:-1]\n",
    "    for key, value in pass_mut_dict_bychr_mca[nwdid].items():\n",
    "        if str(key) == str(mca_chr):\n",
    "            mcas.append(mca)\n",
    "            mca_or_nonmca_status.append('Yes')\n",
    "            passengers_per_bp.append(value/chr_length_dict[str(key)]  * 1e6)\n",
    "            passengers.append(value)\n",
    "        else:\n",
    "            mcas.append(mca)\n",
    "            mca_or_nonmca_status.append('No')\n",
    "            passengers_per_bp.append(value/chr_length_dict[str(key)] * 1e6)\n",
    "            passengers.append(value)"
   ]
  },
  {
   "cell_type": "code",
   "execution_count": 16,
   "metadata": {},
   "outputs": [],
   "source": [
    "pass_by_mcachr = pd.DataFrame(zip(mca_or_nonmca_status, passengers, passengers_per_bp, mcas), \n",
    "                              columns=['on mCA chromosome', \"Number of passenger mutations\", \"Passenger mutations per $10^{6}$ bp\", \"mCAs\"])"
   ]
  },
  {
   "cell_type": "code",
   "execution_count": 17,
   "metadata": {},
   "outputs": [
    {
     "data": {
      "image/png": "[encoded data removed]",
      "text/plain": [
       "<Figure size 1080x1080 with 1 Axes>"
      ]
     },
     "metadata": {
      "needs_background": "light"
     },
     "output_type": "display_data"
    }
   ],
   "source": [
    "pass_by_mcachr.plot.scatter(x = \"on mCA chromosome\", y = \"Passenger mutations per $10^{6}$ bp\", \n",
    "                            alpha=0.25, fontsize = 18, figsize=(15,15))\n",
    "plt.xlabel(\"on mCA chromosome\", fontsize = 20)\n",
    "plt.ylabel(\"Passenger mutations per $10^{6}$ bp\", fontsize = 20)\n",
    "plt.show()"
   ]
  },
  {
   "cell_type": "code",
   "execution_count": 18,
   "metadata": {},
   "outputs": [
    {
     "data": {
      "image/png": "[encoded data removed]",
      "text/plain": [
       "<Figure size 432x288 with 1 Axes>"
      ]
     },
     "metadata": {
      "needs_background": "light"
     },
     "output_type": "display_data"
    },
    {
     "data": {
      "text/html": [
       "<div>\n",
       "<style scoped>\n",
       "    .dataframe tbody tr th:only-of-type {\n",
       "        vertical-align: middle;\n",
       "    }\n",
       "\n",
       "    .dataframe tbody tr th {\n",
       "        vertical-align: top;\n",
       "    }\n",
       "\n",
       "    .dataframe thead tr th {\n",
       "        text-align: left;\n",
       "    }\n",
       "\n",
       "    .dataframe thead tr:last-of-type th {\n",
       "        text-align: right;\n",
       "    }\n",
       "</style>\n",
       "<table border=\"1\" class=\"dataframe\">\n",
       "  <thead>\n",
       "    <tr>\n",
       "      <th></th>\n",
       "      <th colspan=\"8\" halign=\"left\">Number of passenger mutations</th>\n",
       "      <th colspan=\"8\" halign=\"left\">Passenger mutations per $10^{6}$ bp</th>\n",
       "    </tr>\n",
       "    <tr>\n",
       "      <th></th>\n",
       "      <th>count</th>\n",
       "      <th>mean</th>\n",
       "      <th>std</th>\n",
       "      <th>min</th>\n",
       "      <th>25%</th>\n",
       "      <th>50%</th>\n",
       "      <th>75%</th>\n",
       "      <th>max</th>\n",
       "      <th>count</th>\n",
       "      <th>mean</th>\n",
       "      <th>std</th>\n",
       "      <th>min</th>\n",
       "      <th>25%</th>\n",
       "      <th>50%</th>\n",
       "      <th>75%</th>\n",
       "      <th>max</th>\n",
       "    </tr>\n",
       "    <tr>\n",
       "      <th>on mCA chromosome</th>\n",
       "      <th></th>\n",
       "      <th></th>\n",
       "      <th></th>\n",
       "      <th></th>\n",
       "      <th></th>\n",
       "      <th></th>\n",
       "      <th></th>\n",
       "      <th></th>\n",
       "      <th></th>\n",
       "      <th></th>\n",
       "      <th></th>\n",
       "      <th></th>\n",
       "      <th></th>\n",
       "      <th></th>\n",
       "      <th></th>\n",
       "      <th></th>\n",
       "    </tr>\n",
       "  </thead>\n",
       "  <tbody>\n",
       "    <tr>\n",
       "      <th>No</th>\n",
       "      <td>56532.0</td>\n",
       "      <td>3.584713</td>\n",
       "      <td>4.682008</td>\n",
       "      <td>0.0</td>\n",
       "      <td>1.0</td>\n",
       "      <td>2.0</td>\n",
       "      <td>5.0</td>\n",
       "      <td>82.0</td>\n",
       "      <td>56532.0</td>\n",
       "      <td>0.026468</td>\n",
       "      <td>0.030250</td>\n",
       "      <td>0.0</td>\n",
       "      <td>0.005043</td>\n",
       "      <td>0.018684</td>\n",
       "      <td>0.037326</td>\n",
       "      <td>0.425835</td>\n",
       "    </tr>\n",
       "    <tr>\n",
       "      <th>Yes</th>\n",
       "      <td>2692.0</td>\n",
       "      <td>3.859955</td>\n",
       "      <td>5.161898</td>\n",
       "      <td>0.0</td>\n",
       "      <td>1.0</td>\n",
       "      <td>2.0</td>\n",
       "      <td>5.0</td>\n",
       "      <td>78.0</td>\n",
       "      <td>2692.0</td>\n",
       "      <td>0.028407</td>\n",
       "      <td>0.034411</td>\n",
       "      <td>0.0</td>\n",
       "      <td>0.005508</td>\n",
       "      <td>0.018827</td>\n",
       "      <td>0.037654</td>\n",
       "      <td>0.429661</td>\n",
       "    </tr>\n",
       "  </tbody>\n",
       "</table>\n",
       "</div>"
      ],
      "text/plain": [
       "                  Number of passenger mutations                                \\\n",
       "                                          count      mean       std  min  25%   \n",
       "on mCA chromosome                                                               \n",
       "No                                      56532.0  3.584713  4.682008  0.0  1.0   \n",
       "Yes                                      2692.0  3.859955  5.161898  0.0  1.0   \n",
       "\n",
       "                                  Passenger mutations per $10^{6}$ bp  \\\n",
       "                   50%  75%   max                               count   \n",
       "on mCA chromosome                                                       \n",
       "No                 2.0  5.0  82.0                             56532.0   \n",
       "Yes                2.0  5.0  78.0                              2692.0   \n",
       "\n",
       "                                                                          \\\n",
       "                       mean       std  min       25%       50%       75%   \n",
       "on mCA chromosome                                                          \n",
       "No                 0.026468  0.030250  0.0  0.005043  0.018684  0.037326   \n",
       "Yes                0.028407  0.034411  0.0  0.005508  0.018827  0.037654   \n",
       "\n",
       "                             \n",
       "                        max  \n",
       "on mCA chromosome            \n",
       "No                 0.425835  \n",
       "Yes                0.429661  "
      ]
     },
     "execution_count": 18,
     "metadata": {},
     "output_type": "execute_result"
    }
   ],
   "source": [
    "sns.violinplot(x = \"on mCA chromosome\", y = \"Passenger mutations per $10^{6}$ bp\",\n",
    "                data=pass_by_mcachr)\n",
    "plt.show()\n",
    "pass_by_mcachr.groupby('on mCA chromosome').describe()"
   ]
  },
  {
   "cell_type": "markdown",
   "metadata": {},
   "source": [
    "# Compare tot pass mut count with and without mCA chrom"
   ]
  },
  {
   "cell_type": "code",
   "execution_count": 19,
   "metadata": {},
   "outputs": [],
   "source": [
    "tot_pass_mut = defaultdict(int)\n",
    "tot_pass_mut_wo_mca = defaultdict(int)\n",
    "for nwdid in list(mocha_clean_nochrx_df['sample.id'].unique()):\n",
    "    mca_chr = (mca_chr_dict[nwdid])[:-1]\n",
    "    for key, value in pass_mut_dict_bychr_mca[nwdid].items():\n",
    "        if str(key) != str(mca_chr):\n",
    "            tot_pass_mut_wo_mca[nwdid] += value\n",
    "        tot_pass_mut[nwdid] += value\n",
    "        \n",
    "nwdids = []\n",
    "tot_pass_mut_list = []\n",
    "tot_pass_mut_wo_mca_list = []\n",
    "for key, value in tot_pass_mut.items():\n",
    "    nwdids.append(key)\n",
    "    tot_pass_mut_list.append(value)\n",
    "    tot_pass_mut_wo_mca_list.append(tot_pass_mut_wo_mca[key])\n",
    "    \n",
    "pass_mut_mca_df = pd.DataFrame(zip(nwdids, tot_pass_mut_list,tot_pass_mut_wo_mca_list), \n",
    "             columns = ['nwdids', 'tot_pass_mut_list', 'tot_pass_mut_wo_mca_list'])\n",
    "pass_mut_mca_df['diff'] = pass_mut_mca_df['tot_pass_mut_list'] - pass_mut_mca_df['tot_pass_mut_wo_mca_list']\n",
    "pass_mut_mca_df['mca'] = pass_mut_mca_df['nwdids'].map(mca_chr_dict)\n",
    "pass_mut_mca_df['chr'] = pass_mut_mca_df['mca'].str[:-1]\n",
    "pass_mut_mca_df['chr'] = pd.to_numeric(pass_mut_mca_df['chr'])\n",
    "pass_mut_mca_df['type'] = pass_mut_mca_df['mca'].str[-1]\n",
    "pass_mut_mca_df = pass_mut_mca_df[pass_mut_mca_df['type']!='U']"
   ]
  },
  {
   "cell_type": "code",
   "execution_count": 20,
   "metadata": {},
   "outputs": [],
   "source": [
    "diff_perlength = []\n",
    "for index, row in pass_mut_mca_df.iterrows():\n",
    "    diff_perlength.append(row['diff']/chr_length_dict[row['mca'][:-1]])\n",
    "    \n",
    "pass_mut_mca_df['diff_perlength'] = diff_perlength"
   ]
  },
  {
   "cell_type": "code",
   "execution_count": 21,
   "metadata": {},
   "outputs": [],
   "source": [
    "mca_bychr_passmut = pd.DataFrame(pass_by_mcachr.groupby(['mCAs', 'on mCA chromosome']).describe()['Passenger mutations per $10^{6}$ bp'])"
   ]
  },
  {
   "cell_type": "code",
   "execution_count": 22,
   "metadata": {},
   "outputs": [],
   "source": [
    "mca_bychr_passmut = mca_bychr_passmut.reset_index(level=0)\n",
    "mca_bychr_passmut = mca_bychr_passmut.reset_index(level=0)"
   ]
  },
  {
   "cell_type": "code",
   "execution_count": 23,
   "metadata": {},
   "outputs": [],
   "source": [
    "mca_bychr_passmut['chr'] = mca_bychr_passmut['mCAs'].str[:-1]\n",
    "mca_bychr_passmut['chr'] = pd.to_numeric(mca_bychr_passmut['chr'])\n",
    "mca_bychr_passmut['type'] = mca_bychr_passmut['mCAs'].str[-1]\n",
    "mca_bychr_passmut.sort_values(['chr', 'type'], inplace=True)\n",
    "mca_bychr_passmut['iqr'] = mca_bychr_passmut['75%']-mca_bychr_passmut['25%']\n",
    "mca_bychr_passmut = mca_bychr_passmut[mca_bychr_passmut['type'] != 'U']"
   ]
  },
  {
   "cell_type": "code",
   "execution_count": 24,
   "metadata": {},
   "outputs": [],
   "source": [
    "mca_bychr_passmut_nochr = mca_bychr_passmut[mca_bychr_passmut['on mCA chromosome']==\"No\"]\n",
    "mca_bychr_passmut_yeschr = mca_bychr_passmut[mca_bychr_passmut['on mCA chromosome']==\"Yes\"]"
   ]
  },
  {
   "cell_type": "code",
   "execution_count": 25,
   "metadata": {},
   "outputs": [],
   "source": [
    "pass_mut_density = pd.DataFrame(zip(mca_bychr_passmut_yeschr['mCAs'], \n",
    "                                    mca_bychr_passmut_yeschr['50%'], mca_bychr_passmut_nochr['50%']),\n",
    "                                columns = ['mCAs', 'mCA chromosome', 'non-mCA chromosomes'])\n",
    "pass_mut_density['diff'] = pass_mut_density['mCA chromosome'] - pass_mut_density['non-mCA chromosomes']\n",
    "pass_mut_density.sort_values('diff', inplace = True, ascending = False)"
   ]
  },
  {
   "cell_type": "code",
   "execution_count": 31,
   "metadata": {
    "scrolled": false
   },
   "outputs": [
    {
     "data": {
      "image/png": "[encoded data removed]",
      "text/plain": [
       "<Figure size 1800x720 with 1 Axes>"
      ]
     },
     "metadata": {
      "needs_background": "light"
     },
     "output_type": "display_data"
    }
   ],
   "source": [
    "plt.figure(figsize=(25,10))\n",
    "plt.scatter(x=pass_mut_density['mCAs'], y=pass_mut_density['non-mCA chromosomes'] ,\n",
    "                marker='o', color = 'blue', label='Non-mCA chromosome')\n",
    "\n",
    "plt.errorbar(x=pass_mut_density['mCAs'], y=pass_mut_density['mCA chromosome'],\n",
    "                marker='o', ls='', color = 'red', label='mCA chromosome')\n",
    "plt.legend(fontsize=20, loc='upper center')\n",
    "plt.tick_params(axis='y', which='major', labelsize=25)\n",
    "plt.tick_params(axis='x', which='major', labelsize=20, rotation = 90)\n",
    "plt.xlabel('mCAs', fontsize = 30)\n",
    "plt.ylabel('Passenger mutations per $10^{6}$ bp', fontsize=30)\n",
    "plt.grid()\n",
    "plt.savefig('supfig1a_passmutdensity.tif')\n",
    "plt.show()"
   ]
  },
  {
   "cell_type": "code",
   "execution_count": 32,
   "metadata": {},
   "outputs": [
    {
     "name": "stdout",
     "output_type": "stream",
     "text": [
      "Copying file://supfig1a_passmutdensity.tif [Content-Type=image/tiff]...\n",
      "/ [1 files][  4.9 MiB/  4.9 MiB]                                                \n",
      "Operation completed over 1 objects/4.9 MiB.                                      \n"
     ]
    }
   ],
   "source": [
    "! gsutil cp supfig1a_passmutdensity.tif gs://fc-secure-827e3d9c-02b8-499f-91af-c2142b7d2074/mCA_pacer/figures/supfig1a_passmutdensity.tif"
   ]
  },
  {
   "cell_type": "markdown",
   "metadata": {},
   "source": [
    "# See if number of passenger mutations per bp on an mCA chromosome correlates with PACER score"
   ]
  },
  {
   "cell_type": "code",
   "execution_count": 33,
   "metadata": {},
   "outputs": [
    {
     "name": "stderr",
     "output_type": "stream",
     "text": [
      "/opt/conda/lib/python3.7/site-packages/pandas/core/frame.py:5047: SettingWithCopyWarning: \n",
      "A value is trying to be set on a copy of a slice from a DataFrame\n",
      "\n",
      "See the caveats in the documentation: https://pandas.pydata.org/pandas-docs/stable/user_guide/indexing.html#returning-a-view-versus-a-copy\n",
      "  errors=errors,\n"
     ]
    }
   ],
   "source": [
    "mca_bychr_passmut_yeschr.rename(columns={\"mCAs\": \"mCA\"}, inplace=True)\n",
    "mca_bychr_passmut_nochr.rename(columns={\"mCAs\": \"mCA\"}, inplace = True)\n",
    "mca_bychr_passmut_yeschr = mca_bychr_passmut_yeschr.set_index('mCA')\n",
    "mca_bychr_passmut_nochr = mca_bychr_passmut_nochr.set_index('mCA') "
   ]
  },
  {
   "cell_type": "code",
   "execution_count": 34,
   "metadata": {},
   "outputs": [],
   "source": [
    "difference = mca_bychr_passmut_yeschr['50%'] - mca_bychr_passmut_nochr['50%']"
   ]
  },
  {
   "cell_type": "code",
   "execution_count": 35,
   "metadata": {},
   "outputs": [
    {
     "name": "stdout",
     "output_type": "stream",
     "text": [
      "Copying gs://fc-secure-827e3d9c-02b8-499f-91af-c2142b7d2074/mCA_pacer/PACER_fitness_bymca.csv...\n",
      "/ [1 files][  6.5 KiB/  6.5 KiB]                                                \n",
      "Operation completed over 1 objects/6.5 KiB.                                      \n"
     ]
    }
   ],
   "source": [
    "! gsutil cp gs://fc-secure-827e3d9c-02b8-499f-91af-c2142b7d2074/mCA_pacer/PACER_fitness_bymca.csv ."
   ]
  },
  {
   "cell_type": "code",
   "execution_count": 36,
   "metadata": {},
   "outputs": [],
   "source": [
    "fitness_by_mca = pd.read_csv('PACER_fitness_bymca.csv').drop(0)\n",
    "fitness_by_mca = fitness_by_mca.set_index('mCA')"
   ]
  },
  {
   "cell_type": "code",
   "execution_count": 37,
   "metadata": {},
   "outputs": [],
   "source": [
    "diff = pd.DataFrame(difference)"
   ]
  },
  {
   "cell_type": "code",
   "execution_count": 62,
   "metadata": {},
   "outputs": [],
   "source": [
    "diff_fitness = fitness_by_mca.merge(diff, left_index = True, right_index=True)"
   ]
  },
  {
   "cell_type": "code",
   "execution_count": 65,
   "metadata": {},
   "outputs": [
    {
     "name": "stderr",
     "output_type": "stream",
     "text": [
      "/opt/conda/lib/python3.7/site-packages/seaborn/_decorators.py:43: FutureWarning: Pass the following variables as keyword args: x, y. From version 0.12, the only valid positional argument will be `data`, and passing other arguments without an explicit keyword will result in an error or misinterpretation.\n",
      "  FutureWarning\n"
     ]
    },
    {
     "data": {
      "text/plain": [
       "<Figure size 1440x1440 with 0 Axes>"
      ]
     },
     "metadata": {},
     "output_type": "display_data"
    },
    {
     "data": {
      "image/png": "[encoded data removed]",
      "text/plain": [
       "<Figure size 360x360 with 1 Axes>"
      ]
     },
     "metadata": {
      "needs_background": "light"
     },
     "output_type": "display_data"
    }
   ],
   "source": [
    "def label_point(x, y, val, ax):\n",
    "    a = pd.concat({'x': x, 'y': y, 'val': val}, axis=1)\n",
    "    for i, point in a.iterrows():\n",
    "        ax.text(point['x'], point['y'], str(point['val']), size=10)\n",
    "\n",
    "plt.figure(figsize=(20,20))\n",
    "diff_fitness = diff_fitness.reset_index(0)\n",
    "g = sns.lmplot('50%','tpm', data=diff_fitness, scatter_kws={\"s\": diff_fitness['count']})\n",
    "# g.map_dataframe(annotate)\n",
    "marker1 = plt.scatter([],[], s=diff_fitness['count'].min(), c='C0')\n",
    "marker2 = plt.scatter([],[], s=diff_fitness['count'].mean(), c='C0')\n",
    "marker3 = plt.scatter([],[], s=diff_fitness['count'].max(), c='C0')\n",
    "legend_markers = [marker1, marker2, marker3]\n",
    "\n",
    "labels = [\n",
    "    str(round(diff_fitness['count'].min())),\n",
    "    str(round(diff_fitness['count'].mean())),\n",
    "    str(round(diff_fitness['count'].max()))\n",
    "    ]\n",
    "\n",
    "legend= plt.legend(handles=legend_markers, labels=labels, title='Counts',\n",
    "                    frameon=True, bbox_to_anchor=(1, 0.3))\n",
    "\n",
    "plt.ylabel(\"Covariate-adjusted expansion rate (TOPMed)\")\n",
    "plt.xlabel(\"Diff in passenger mutations per $10^{6}$ bp (mCA - nonmCA)\")\n",
    "label_point(diff_fitness['50%'], diff_fitness['tpm'], diff_fitness['mCA'], plt.gca())  \n",
    "plt.savefig('supfig1b_corrbtwnmcaandnot.tif', dpi = 300)\n",
    "plt.show()"
   ]
  },
  {
   "cell_type": "code",
   "execution_count": 66,
   "metadata": {},
   "outputs": [
    {
     "name": "stdout",
     "output_type": "stream",
     "text": [
      "Copying file://supfig1b_corrbtwnmcaandnot.tif [Content-Type=image/tiff]...\n",
      "/ [1 files][  8.6 MiB/  8.6 MiB]                                                \n",
      "Operation completed over 1 objects/8.6 MiB.                                      \n"
     ]
    }
   ],
   "source": [
    "! gsutil cp supfig1b_corrbtwnmcaandnot.tif gs://fc-secure-827e3d9c-02b8-499f-91af-c2142b7d2074/mCA_pacer/figures/supfig1b_corrbtwnmcaandnot.tif"
   ]
  },
  {
   "cell_type": "code",
   "execution_count": 41,
   "metadata": {},
   "outputs": [
    {
     "data": {
      "text/html": [
       "<table class=\"simpletable\">\n",
       "<caption>Generalized Linear Model Regression Results</caption>\n",
       "<tr>\n",
       "  <th>Dep. Variable:</th>        <td>median</td>      <th>  No. Observations:  </th>   <td>    24</td>  \n",
       "</tr>\n",
       "<tr>\n",
       "  <th>Model:</th>                  <td>GLM</td>       <th>  Df Residuals:      </th>   <td>    22</td>  \n",
       "</tr>\n",
       "<tr>\n",
       "  <th>Model Family:</th>        <td>Gaussian</td>     <th>  Df Model:          </th>   <td>     1</td>  \n",
       "</tr>\n",
       "<tr>\n",
       "  <th>Link Function:</th>       <td>identity</td>     <th>  Scale:             </th> <td>3.4970e-05</td>\n",
       "</tr>\n",
       "<tr>\n",
       "  <th>Method:</th>                <td>IRLS</td>       <th>  Log-Likelihood:    </th>  <td>  90.122</td> \n",
       "</tr>\n",
       "<tr>\n",
       "  <th>Date:</th>            <td>Fri, 19 Aug 2022</td> <th>  Deviance:          </th> <td>0.00076934</td>\n",
       "</tr>\n",
       "<tr>\n",
       "  <th>Time:</th>                <td>17:17:26</td>     <th>  Pearson chi2:      </th>  <td>0.000769</td> \n",
       "</tr>\n",
       "<tr>\n",
       "  <th>No. Iterations:</th>          <td>3</td>        <th>  Pseudo R-squ. (CS):</th>   <td>0.1576</td>  \n",
       "</tr>\n",
       "<tr>\n",
       "  <th>Covariance Type:</th>     <td>nonrobust</td>    <th>                     </th>      <td> </td>    \n",
       "</tr>\n",
       "</table>\n",
       "<table class=\"simpletable\">\n",
       "<tr>\n",
       "      <td></td>         <th>coef</th>     <th>std err</th>      <th>z</th>      <th>P>|z|</th>  <th>[0.025</th>    <th>0.975]</th>  \n",
       "</tr>\n",
       "<tr>\n",
       "  <th>Intercept</th> <td>   -0.0103</td> <td>    0.006</td> <td>   -1.840</td> <td> 0.066</td> <td>   -0.021</td> <td>    0.001</td>\n",
       "</tr>\n",
       "<tr>\n",
       "  <th>tpm</th>       <td>    0.0001</td> <td> 6.35e-05</td> <td>    2.007</td> <td> 0.045</td> <td> 2.97e-06</td> <td>    0.000</td>\n",
       "</tr>\n",
       "</table>"
      ],
      "text/plain": [
       "<class 'statsmodels.iolib.summary.Summary'>\n",
       "\"\"\"\n",
       "                 Generalized Linear Model Regression Results                  \n",
       "==============================================================================\n",
       "Dep. Variable:                 median   No. Observations:                   24\n",
       "Model:                            GLM   Df Residuals:                       22\n",
       "Model Family:                Gaussian   Df Model:                            1\n",
       "Link Function:               identity   Scale:                      3.4970e-05\n",
       "Method:                          IRLS   Log-Likelihood:                 90.122\n",
       "Date:                Fri, 19 Aug 2022   Deviance:                   0.00076934\n",
       "Time:                        17:17:26   Pearson chi2:                 0.000769\n",
       "No. Iterations:                     3   Pseudo R-squ. (CS):             0.1576\n",
       "Covariance Type:            nonrobust                                         \n",
       "==============================================================================\n",
       "                 coef    std err          z      P>|z|      [0.025      0.975]\n",
       "------------------------------------------------------------------------------\n",
       "Intercept     -0.0103      0.006     -1.840      0.066      -0.021       0.001\n",
       "tpm            0.0001   6.35e-05      2.007      0.045    2.97e-06       0.000\n",
       "==============================================================================\n",
       "\"\"\""
      ]
     },
     "execution_count": 41,
     "metadata": {},
     "output_type": "execute_result"
    }
   ],
   "source": [
    "diff_fitness['median']= diff_fitness['50%']\n",
    "model = smf.glm('median~tpm', data=diff_fitness)\n",
    "results = model.fit()\n",
    "results.summary()"
   ]
  },
  {
   "cell_type": "code",
   "execution_count": null,
   "metadata": {},
   "outputs": [],
   "source": []
  }
 ],
 "metadata": {
  "kernelspec": {
   "display_name": "Python 3",
   "language": "python",
   "name": "python3"
  },
  "language_info": {
   "codemirror_mode": {
    "name": "ipython",
    "version": 3
   },
   "file_extension": ".py",
   "mimetype": "text/x-python",
   "name": "python",
   "nbconvert_exporter": "python",
   "pygments_lexer": "ipython3",
   "version": "3.7.12"
  },
  "toc": {
   "base_numbering": 1,
   "nav_menu": {},
   "number_sections": true,
   "sideBar": true,
   "skip_h1_title": false,
   "title_cell": "Table of Contents",
   "title_sidebar": "Contents",
   "toc_cell": false,
   "toc_position": {},
   "toc_section_display": true,
   "toc_window_display": false
  }
 },
 "nbformat": 4,
 "nbformat_minor": 2
}
