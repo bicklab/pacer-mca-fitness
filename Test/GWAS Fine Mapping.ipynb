{
 "cells": [
  {
   "cell_type": "markdown",
   "metadata": {},
   "source": [
    "# GWAS results from Encore "
   ]
  },
  {
   "cell_type": "markdown",
   "metadata": {},
   "source": [
    "- Ran 2 analyses:\n",
    "    1. Response variable = total passenger mutations; covariates = sex, age, PCs 1-10; variant filter = MAF > 0.1%\n",
    "    2. Response variable = pacer_covadj_int; covariates = PCs 1-10; variant filter = MAF > 0.1%\n",
    "\n",
    "\n",
    "- Model: Fast linear mixed model with kinship adjustment (saige-qt)\n",
    "\n",
    "- Goal: To determine germline mutations associated with higher fitness (# of passenger mutations) among patients with mCAs"
   ]
  },
  {
   "cell_type": "code",
   "execution_count": 1,
   "metadata": {
    "scrolled": true
   },
   "outputs": [
    {
     "name": "stderr",
     "output_type": "stream",
     "text": [
      "Loading required package: remotes\n",
      "\n",
      "Downloading GitHub repo RajLabMSSM/echolocatoR@HEAD\n",
      "\n"
     ]
    },
    {
     "name": "stdout",
     "output_type": "stream",
     "text": [
      "susieR       (NA         -> c39ab77ba...) [GitHub]\n",
      "Rcpp         (1.0.8.3    -> 1.0.9       ) [CRAN]\n",
      "RcppArmad... (0.11.1.1.0 -> 0.11.2.0.0  ) [CRAN]\n",
      "zlibbioc     (NA         -> 1.42.0      ) [CRAN]\n",
      "formatR      (NA         -> 1.12        ) [CRAN]\n",
      "futile.op... (NA         -> 1.0.1       ) [CRAN]\n",
      "lambda.r     (NA         -> 1.2.4       ) [CRAN]\n",
      "snow         (NA         -> 0.4-4       ) [CRAN]\n",
      "futile.lo... (NA         -> 1.4.3       ) [CRAN]\n",
      "farver       (2.1.0      -> 2.1.1       ) [CRAN]\n",
      "pillar       (1.7.0      -> 1.8.0       ) [CRAN]\n",
      "tibble       (3.1.7      -> 3.1.8       ) [CRAN]\n",
      "generics     (0.1.2      -> 0.1.3       ) [CRAN]\n",
      "rlang        (1.0.2      -> 1.0.4       ) [CRAN]\n",
      "reshape      (NA         -> 0.8.9       ) [CRAN]\n",
      "DelayedArray (NA         -> 0.22.0      ) [CRAN]\n",
      "MatrixGen... (NA         -> 1.8.1       ) [CRAN]\n",
      "stringi      (1.7.6      -> 1.7.8       ) [CRAN]\n",
      "Rhtslib      (NA         -> 1.28.0      ) [CRAN]\n",
      "rjson        (NA         -> 0.2.21      ) [CRAN]\n",
      "openssl      (2.0.1      -> 2.0.2       ) [CRAN]\n",
      "BiocParallel (NA         -> 1.30.3      ) [CRAN]\n",
      "Summarize... (NA         -> 1.26.1      ) [CRAN]\n",
      "filelock     (NA         -> 1.0.2       ) [CRAN]\n",
      "dbplyr       (2.1.1      -> 2.2.1       ) [CRAN]\n",
      "restfulr     (NA         -> 0.0.15      ) [CRAN]\n",
      "GenomicAl... (NA         -> 1.32.1      ) [CRAN]\n",
      "Rsamtools    (NA         -> 2.12.0      ) [CRAN]\n",
      "plogr        (NA         -> 0.2.0       ) [CRAN]\n",
      "GenomeInf... (NA         -> 1.2.8       ) [CRAN]\n",
      "BiocFileC... (NA         -> 2.4.0       ) [CRAN]\n",
      "XML          (NA         -> 3.99-0.10   ) [CRAN]\n",
      "biomaRt      (NA         -> 2.52.0      ) [CRAN]\n",
      "rtracklayer  (NA         -> 1.56.1      ) [CRAN]\n",
      "BiocIO       (NA         -> 1.6.0       ) [CRAN]\n",
      "Biostrings   (NA         -> 2.64.0      ) [CRAN]\n",
      "XVector      (NA         -> 0.36.0      ) [CRAN]\n",
      "RCurl        (NA         -> 1.98-1.8    ) [CRAN]\n",
      "GenomeInfoDb (NA         -> 1.32.2      ) [CRAN]\n",
      "KEGGREST     (NA         -> 1.36.3      ) [CRAN]\n",
      "RSQLite      (NA         -> 2.2.15      ) [CRAN]\n",
      "S4Vectors    (NA         -> 0.34.0      ) [CRAN]\n",
      "DBI          (1.1.2      -> 1.1.3       ) [CRAN]\n",
      "RBGL         (NA         -> 1.72.0      ) [CRAN]\n",
      "IRanges      (NA         -> 2.30.0      ) [CRAN]\n",
      "graph        (NA         -> 1.74.0      ) [CRAN]\n",
      "GenomicRa... (NA         -> 1.48.0      ) [CRAN]\n",
      "Biobase      (NA         -> 2.56.0      ) [CRAN]\n",
      "GenomicFe... (NA         -> 1.48.3      ) [CRAN]\n",
      "Annotatio... (NA         -> 1.58.0      ) [CRAN]\n",
      "BiocGenerics (NA         -> 0.42.0      ) [CRAN]\n",
      "interp       (NA         -> 1.1-3       ) [CRAN]\n",
      "jpeg         (NA         -> 0.1-9       ) [CRAN]\n",
      "checkmate    (NA         -> 2.1.0       ) [CRAN]\n",
      "BSgenome     (NA         -> 1.64.0      ) [CRAN]\n",
      "htmltools    (0.5.2      -> 0.5.3       ) [CRAN]\n",
      "viridis      (NA         -> 0.6.2       ) [CRAN]\n",
      "htmlTable    (NA         -> 2.4.1       ) [CRAN]\n",
      "latticeExtra (NA         -> 0.6-30      ) [CRAN]\n",
      "Formula      (NA         -> 1.2-4       ) [CRAN]\n",
      "ProtGenerics (NA         -> 1.28.0      ) [CRAN]\n",
      "Annotatio... (NA         -> 1.20.0      ) [CRAN]\n",
      "ensembldb    (NA         -> 2.20.2      ) [CRAN]\n",
      "VariantAn... (NA         -> 1.42.1      ) [CRAN]\n",
      "dichromat    (NA         -> 2.0-0.1     ) [CRAN]\n",
      "Hmisc        (NA         -> 4.7-0       ) [CRAN]\n",
      "rbibutils    (NA         -> 2.2.8       ) [CRAN]\n",
      "mixsqp       (NA         -> 0.3-43      ) [CRAN]\n",
      "proxy        (NA         -> 0.4-27      ) [CRAN]\n",
      "lmom         (NA         -> 2.9         ) [CRAN]\n",
      "e1071        (NA         -> 1.7-11      ) [CRAN]\n",
      "rootSolve    (NA         -> 1.8.2.3     ) [CRAN]\n",
      "sass         (0.4.1      -> 0.4.2       ) [CRAN]\n",
      "ps           (1.7.0      -> 1.7.1       ) [CRAN]\n",
      "tinytex      (0.39       -> 0.40        ) [CRAN]\n",
      "bslib        (0.3.1      -> 0.4.0       ) [CRAN]\n",
      "processx     (3.5.3      -> 3.7.0       ) [CRAN]\n",
      "callr        (3.7.0      -> 3.7.1       ) [CRAN]\n",
      "broom        (0.8.0      -> 1.0.0       ) [CRAN]\n",
      "R.methodsS3  (NA         -> 1.8.2       ) [CRAN]\n",
      "pkgload      (1.2.4      -> 1.3.0       ) [CRAN]\n",
      "textshaping  (NA         -> 0.3.6       ) [CRAN]\n",
      "systemfonts  (NA         -> 1.0.4       ) [CRAN]\n",
      "ragg         (NA         -> 1.2.2       ) [CRAN]\n",
      "downlit      (NA         -> 0.4.2       ) [CRAN]\n",
      "fontawesome  (0.2.2      -> 0.3.0       ) [CRAN]\n",
      "shiny        (1.7.1      -> 1.7.2       ) [CRAN]\n",
      "GGally       (NA         -> 2.1.2       ) [CRAN]\n",
      "OrganismDbi  (NA         -> 1.38.1      ) [CRAN]\n",
      "biovizBase   (NA         -> 1.44.0      ) [CRAN]\n",
      "Rdpack       (NA         -> 2.4         ) [CRAN]\n",
      "gld          (NA         -> 2.6.5       ) [CRAN]\n",
      "Exact        (NA         -> 3.1         ) [CRAN]\n",
      "expm         (NA         -> 0.999-6     ) [CRAN]\n",
      "mvtnorm      (NA         -> 1.1-3       ) [CRAN]\n",
      "R.oo         (NA         -> 1.25.0      ) [CRAN]\n",
      "urlchecker   (NA         -> 1.0.1       ) [CRAN]\n",
      "roxygen2     (7.2.0      -> 7.2.1       ) [CRAN]\n",
      "profvis      (NA         -> 0.3.7       ) [CRAN]\n",
      "pkgdown      (NA         -> 2.0.6       ) [CRAN]\n",
      "usethis      (2.1.5      -> 2.1.6       ) [CRAN]\n",
      "seqminer     (NA         -> 8.4         ) [CRAN]\n",
      "snpStats     (NA         -> 1.46.0      ) [CRAN]\n",
      "ggbio        (NA         -> 1.44.1      ) [CRAN]\n",
      "Ckmeans.1... (NA         -> 4.3.4       ) [CRAN]\n",
      "EnsDb.Hsa... (NA         -> 2.99.0      ) [CRAN]\n",
      "openxlsx     (NA         -> 4.2.5       ) [CRAN]\n",
      "coloc        (NA         -> 5.1.0.1     ) [CRAN]\n",
      "DescTools    (NA         -> 0.99.45     ) [CRAN]\n",
      "tidyverse    (1.3.1      -> 1.3.2       ) [CRAN]\n",
      "R.utils      (NA         -> 2.12.0      ) [CRAN]\n",
      "devtools     (2.4.3      -> 2.4.4       ) [CRAN]\n"
     ]
    },
    {
     "name": "stderr",
     "output_type": "stream",
     "text": [
      "Downloading GitHub repo stephenslab/susieR@HEAD\n",
      "\n"
     ]
    },
    {
     "name": "stdout",
     "output_type": "stream",
     "text": [
      "rlang        (1.0.2      -> 1.0.4     ) [CRAN]\n",
      "pillar       (1.7.0      -> 1.8.0     ) [CRAN]\n",
      "farver       (2.1.0      -> 2.1.1     ) [CRAN]\n",
      "Rcpp         (1.0.8.3    -> 1.0.9     ) [CRAN]\n",
      "tibble       (3.1.7      -> 3.1.8     ) [CRAN]\n",
      "RcppArmad... (0.11.1.1.0 -> 0.11.2.0.0) [CRAN]\n",
      "reshape      (NA         -> 0.8.9     ) [CRAN]\n",
      "mixsqp       (NA         -> 0.3-43    ) [CRAN]\n"
     ]
    },
    {
     "name": "stderr",
     "output_type": "stream",
     "text": [
      "Installing 8 packages: rlang, pillar, farver, Rcpp, tibble, RcppArmadillo, reshape, mixsqp\n",
      "\n",
      "Installing packages into ‘/home/jupyter/packages’\n",
      "(as ‘lib’ is unspecified)\n",
      "\n"
     ]
    },
    {
     "name": "stdout",
     "output_type": "stream",
     "text": [
      "* checking for file ‘/tmp/RtmpuwDbVt/remotes1e02536c69d/stephenslab-susieR-c39ab77/DESCRIPTION’ ... OK\n",
      "* preparing ‘susieR’:\n",
      "* checking DESCRIPTION meta-information ... OK\n",
      "* checking for LF line-endings in source and make files and shell scripts\n",
      "* checking for empty or unneeded directories\n",
      "* building ‘susieR_0.12.17.tar.gz’\n",
      "\n"
     ]
    },
    {
     "name": "stderr",
     "output_type": "stream",
     "text": [
      "Installing package into ‘/home/jupyter/packages’\n",
      "(as ‘lib’ is unspecified)\n",
      "\n",
      "Installing 111 packages: Rcpp, RcppArmadillo, zlibbioc, formatR, futile.options, lambda.r, snow, futile.logger, farver, pillar, tibble, generics, rlang, reshape, DelayedArray, MatrixGenerics, stringi, Rhtslib, rjson, openssl, BiocParallel, SummarizedExperiment, filelock, dbplyr, restfulr, GenomicAlignments, Rsamtools, plogr, GenomeInfoDbData, BiocFileCache, XML, biomaRt, rtracklayer, BiocIO, Biostrings, XVector, RCurl, GenomeInfoDb, KEGGREST, RSQLite, S4Vectors, DBI, RBGL, IRanges, graph, GenomicRanges, Biobase, GenomicFeatures, AnnotationDbi, BiocGenerics, interp, jpeg, checkmate, BSgenome, htmltools, viridis, htmlTable, latticeExtra, Formula, ProtGenerics, AnnotationFilter, ensembldb, VariantAnnotation, dichromat, Hmisc, rbibutils, mixsqp, proxy, lmom, e1071, rootSolve, sass, ps, tinytex, bslib, processx, callr, broom, R.methodsS3, pkgload, textshaping, systemfonts, ragg, downlit, fontawesome, shiny, GGally, OrganismDbi, biovizBase, Rdpack, gld, Exact, expm, mvtnorm, R.oo, urlchecker, roxygen2, profvis, pkgdown, usethis, seqminer, snpStats, ggbio, Ckmeans.1d.dp, EnsDb.Hsapiens.v75, openxlsx, coloc, DescTools, tidyverse, R.utils, devtools\n",
      "\n",
      "Installing packages into ‘/home/jupyter/packages’\n",
      "(as ‘lib’ is unspecified)\n",
      "\n",
      "Warning message in i.p(...):\n",
      "“installation of package ‘interp’ had non-zero exit status”\n",
      "Warning message in i.p(...):\n",
      "“installation of package ‘latticeExtra’ had non-zero exit status”\n",
      "Warning message in i.p(...):\n",
      "“installation of package ‘Hmisc’ had non-zero exit status”\n",
      "Warning message in i.p(...):\n",
      "“installation of package ‘VariantAnnotation’ had non-zero exit status”\n",
      "Warning message in i.p(...):\n",
      "“installation of package ‘biovizBase’ had non-zero exit status”\n",
      "Warning message in i.p(...):\n",
      "“installation of package ‘ggbio’ had non-zero exit status”\n",
      "Skipping install of 'susieR' from a github remote, the SHA1 (c39ab77b) has not changed since last install.\n",
      "  Use `force = TRUE` to force installation\n",
      "\n"
     ]
    },
    {
     "name": "stdout",
     "output_type": "stream",
     "text": [
      "* checking for file ‘/tmp/RtmpuwDbVt/remotes1e01223a79/RajLabMSSM-echolocatoR-04593de/DESCRIPTION’ ... OK\n",
      "* preparing ‘echolocatoR’:\n",
      "* checking DESCRIPTION meta-information ... OK\n",
      "* excluding invalid files\n",
      "Subdirectory 'R' contains invalid file names:\n",
      "  ‘.rbind.file.list.R’\n",
      "* checking for LF line-endings in source and make files and shell scripts\n",
      "* checking for empty or unneeded directories\n",
      "Removed empty directory ‘echolocatoR/inst/tools/goshifter’\n",
      "Removed empty directory ‘echolocatoR/inst/tools/PAINTOR_V3.0’\n",
      "Removed empty directory ‘echolocatoR/inst/tools/polyfun’\n",
      "* building ‘echolocatoR_0.2.3.tar.gz’\n",
      "\n"
     ]
    },
    {
     "name": "stderr",
     "output_type": "stream",
     "text": [
      "Installing package into ‘/home/jupyter/packages’\n",
      "(as ‘lib’ is unspecified)\n",
      "\n",
      "Warning message in i.p(...):\n",
      "“installation of package ‘/tmp/RtmpuwDbVt/file1e01aa1434c/echolocatoR_0.2.3.tar.gz’ had non-zero exit status”\n"
     ]
    }
   ],
   "source": [
    "if(!require(\"remotes\")) install.packages(\"remotes\")\n",
    "\n",
    "remotes::install_github(\"RajLabMSSM/echolocatoR\")"
   ]
  },
  {
   "cell_type": "code",
   "execution_count": null,
   "metadata": {},
   "outputs": [],
   "source": [
    "pd.read_csv('adc7c434-output.filtered.001')"
   ]
  }
 ],
 "metadata": {
  "kernelspec": {
   "display_name": "R",
   "language": "R",
   "name": "ir"
  },
  "language_info": {
   "codemirror_mode": "r",
   "file_extension": ".r",
   "mimetype": "text/x-r-source",
   "name": "R",
   "pygments_lexer": "r",
   "version": "4.2.0"
  },
  "toc": {
   "base_numbering": 1,
   "nav_menu": {},
   "number_sections": true,
   "sideBar": true,
   "skip_h1_title": false,
   "title_cell": "Table of Contents",
   "title_sidebar": "Contents",
   "toc_cell": false,
   "toc_position": {},
   "toc_section_display": true,
   "toc_window_display": false
  }
 },
 "nbformat": 4,
 "nbformat_minor": 2
}
