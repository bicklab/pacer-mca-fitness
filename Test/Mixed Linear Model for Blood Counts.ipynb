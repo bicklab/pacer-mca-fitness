{
 "cells": [
  {
   "cell_type": "code",
   "execution_count": 2,
   "metadata": {},
   "outputs": [
    {
     "name": "stderr",
     "output_type": "stream",
     "text": [
      "Installing package into ‘/home/jupyter/packages’\n",
      "(as ‘lib’ is unspecified)\n",
      "\n"
     ]
    }
   ],
   "source": [
    "install.packages('lme4')"
   ]
  },
  {
   "cell_type": "code",
   "execution_count": 3,
   "metadata": {},
   "outputs": [
    {
     "name": "stderr",
     "output_type": "stream",
     "text": [
      "Installing package into ‘/home/jupyter/packages’\n",
      "(as ‘lib’ is unspecified)\n",
      "\n"
     ]
    }
   ],
   "source": [
    "install.packages('MuMIn')"
   ]
  },
  {
   "cell_type": "code",
   "execution_count": 4,
   "metadata": {},
   "outputs": [
    {
     "name": "stderr",
     "output_type": "stream",
     "text": [
      "Installing package into ‘/home/jupyter/packages’\n",
      "(as ‘lib’ is unspecified)\n",
      "\n"
     ]
    }
   ],
   "source": [
    "install.packages('sjPlot')"
   ]
  },
  {
   "cell_type": "code",
   "execution_count": 5,
   "metadata": {},
   "outputs": [
    {
     "name": "stderr",
     "output_type": "stream",
     "text": [
      "Loading required package: Matrix\n",
      "\n"
     ]
    }
   ],
   "source": [
    "library(lme4)"
   ]
  },
  {
   "cell_type": "code",
   "execution_count": 6,
   "metadata": {},
   "outputs": [],
   "source": [
    "library(MuMIn)"
   ]
  },
  {
   "cell_type": "code",
   "execution_count": 7,
   "metadata": {},
   "outputs": [
    {
     "name": "stderr",
     "output_type": "stream",
     "text": [
      "Install package \"strengejacke\" from GitHub (`devtools::install_github(\"strengejacke/strengejacke\")`) to load all sj-packages at once!\n",
      "\n"
     ]
    },
    {
     "ename": "ERROR",
     "evalue": "Error in library(effects): there is no package called ‘effects’\n",
     "output_type": "error",
     "traceback": [
      "Error in library(effects): there is no package called ‘effects’\nTraceback:\n",
      "1. library(effects)"
     ]
    }
   ],
   "source": [
    "library(sjPlot) #for plotting lmer and glmer mods\n",
    "library(sjmisc) \n",
    "library(effects)\n",
    "library(sjstats) #use for r2 functions"
   ]
  },
  {
   "cell_type": "code",
   "execution_count": 8,
   "metadata": {},
   "outputs": [],
   "source": [
    "blood_df <- read.table(file='mca_pacer_nochrx_bloodcounts_df.tsv', sep = '\\t', header = TRUE)"
   ]
  },
  {
   "cell_type": "code",
   "execution_count": 16,
   "metadata": {},
   "outputs": [
    {
     "data": {
      "text/html": [
       "<style>\n",
       ".list-inline {list-style: none; margin:0; padding: 0}\n",
       ".list-inline>li {display: inline-block}\n",
       ".list-inline>li:not(:last-child)::after {content: \"\\00b7\"; padding: 0 .5ex}\n",
       "</style>\n",
       "<ol class=list-inline><li>'sample.id'</li><li>'total_pass_mut'</li><li>'chip_case'</li><li>'age'</li><li>'sex'</li><li>'sex_dummy'</li><li>'mCAs'</li><li>'mCA'</li><li>'cf'</li><li>'mCA.w.arm'</li><li>'Autosomal'</li><li>'Autosomal.Type'</li><li>'pacer_covadj_int'</li><li>'pacer_covadj_int_norm'</li><li>'Unnamed..0'</li><li>'SUBJECT_ID'</li><li>'unique_subject_key'</li><li>'topmed_abbreviation'</li><li>'age_at_hemoglobin_mcnc_bld_1'</li><li>'hemoglobin_mcnc_bld_1'</li><li>'age_at_hematocrit_vfr_bld_1'</li><li>'hematocrit_vfr_bld_1'</li><li>'age_at_rbc_ncnc_bld_1'</li><li>'rbc_ncnc_bld_1'</li><li>'age_at_wbc_ncnc_bld_1'</li><li>'wbc_ncnc_bld_1'</li><li>'age_at_basophil_ncnc_bld_1'</li><li>'basophil_ncnc_bld_1'</li><li>'age_at_eosinophil_ncnc_bld_1'</li><li>'eosinophil_ncnc_bld_1'</li><li>'age_at_neutrophil_ncnc_bld_1'</li><li>'neutrophil_ncnc_bld_1'</li><li>'age_at_lymphocyte_ncnc_bld_1'</li><li>'lymphocyte_ncnc_bld_1'</li><li>'age_at_monocyte_ncnc_bld_1'</li><li>'monocyte_ncnc_bld_1'</li><li>'age_at_platelet_ncnc_bld_1'</li><li>'platelet_ncnc_bld_1'</li><li>'age_at_mch_entmass_rbc_1'</li><li>'mch_entmass_rbc_1'</li><li>'age_at_mchc_mcnc_rbc_1'</li><li>'mchc_mcnc_rbc_1'</li><li>'age_at_mcv_entvol_rbc_1'</li><li>'mcv_entvol_rbc_1'</li><li>'age_at_pmv_entvol_bld_1'</li><li>'pmv_entvol_bld_1'</li><li>'age_at_rdw_ratio_rbc_1'</li><li>'rdw_ratio_rbc_1'</li></ol>\n"
      ],
      "text/latex": [
       "\\begin{enumerate*}\n",
       "\\item 'sample.id'\n",
       "\\item 'total\\_pass\\_mut'\n",
       "\\item 'chip\\_case'\n",
       "\\item 'age'\n",
       "\\item 'sex'\n",
       "\\item 'sex\\_dummy'\n",
       "\\item 'mCAs'\n",
       "\\item 'mCA'\n",
       "\\item 'cf'\n",
       "\\item 'mCA.w.arm'\n",
       "\\item 'Autosomal'\n",
       "\\item 'Autosomal.Type'\n",
       "\\item 'pacer\\_covadj\\_int'\n",
       "\\item 'pacer\\_covadj\\_int\\_norm'\n",
       "\\item 'Unnamed..0'\n",
       "\\item 'SUBJECT\\_ID'\n",
       "\\item 'unique\\_subject\\_key'\n",
       "\\item 'topmed\\_abbreviation'\n",
       "\\item 'age\\_at\\_hemoglobin\\_mcnc\\_bld\\_1'\n",
       "\\item 'hemoglobin\\_mcnc\\_bld\\_1'\n",
       "\\item 'age\\_at\\_hematocrit\\_vfr\\_bld\\_1'\n",
       "\\item 'hematocrit\\_vfr\\_bld\\_1'\n",
       "\\item 'age\\_at\\_rbc\\_ncnc\\_bld\\_1'\n",
       "\\item 'rbc\\_ncnc\\_bld\\_1'\n",
       "\\item 'age\\_at\\_wbc\\_ncnc\\_bld\\_1'\n",
       "\\item 'wbc\\_ncnc\\_bld\\_1'\n",
       "\\item 'age\\_at\\_basophil\\_ncnc\\_bld\\_1'\n",
       "\\item 'basophil\\_ncnc\\_bld\\_1'\n",
       "\\item 'age\\_at\\_eosinophil\\_ncnc\\_bld\\_1'\n",
       "\\item 'eosinophil\\_ncnc\\_bld\\_1'\n",
       "\\item 'age\\_at\\_neutrophil\\_ncnc\\_bld\\_1'\n",
       "\\item 'neutrophil\\_ncnc\\_bld\\_1'\n",
       "\\item 'age\\_at\\_lymphocyte\\_ncnc\\_bld\\_1'\n",
       "\\item 'lymphocyte\\_ncnc\\_bld\\_1'\n",
       "\\item 'age\\_at\\_monocyte\\_ncnc\\_bld\\_1'\n",
       "\\item 'monocyte\\_ncnc\\_bld\\_1'\n",
       "\\item 'age\\_at\\_platelet\\_ncnc\\_bld\\_1'\n",
       "\\item 'platelet\\_ncnc\\_bld\\_1'\n",
       "\\item 'age\\_at\\_mch\\_entmass\\_rbc\\_1'\n",
       "\\item 'mch\\_entmass\\_rbc\\_1'\n",
       "\\item 'age\\_at\\_mchc\\_mcnc\\_rbc\\_1'\n",
       "\\item 'mchc\\_mcnc\\_rbc\\_1'\n",
       "\\item 'age\\_at\\_mcv\\_entvol\\_rbc\\_1'\n",
       "\\item 'mcv\\_entvol\\_rbc\\_1'\n",
       "\\item 'age\\_at\\_pmv\\_entvol\\_bld\\_1'\n",
       "\\item 'pmv\\_entvol\\_bld\\_1'\n",
       "\\item 'age\\_at\\_rdw\\_ratio\\_rbc\\_1'\n",
       "\\item 'rdw\\_ratio\\_rbc\\_1'\n",
       "\\end{enumerate*}\n"
      ],
      "text/markdown": [
       "1. 'sample.id'\n",
       "2. 'total_pass_mut'\n",
       "3. 'chip_case'\n",
       "4. 'age'\n",
       "5. 'sex'\n",
       "6. 'sex_dummy'\n",
       "7. 'mCAs'\n",
       "8. 'mCA'\n",
       "9. 'cf'\n",
       "10. 'mCA.w.arm'\n",
       "11. 'Autosomal'\n",
       "12. 'Autosomal.Type'\n",
       "13. 'pacer_covadj_int'\n",
       "14. 'pacer_covadj_int_norm'\n",
       "15. 'Unnamed..0'\n",
       "16. 'SUBJECT_ID'\n",
       "17. 'unique_subject_key'\n",
       "18. 'topmed_abbreviation'\n",
       "19. 'age_at_hemoglobin_mcnc_bld_1'\n",
       "20. 'hemoglobin_mcnc_bld_1'\n",
       "21. 'age_at_hematocrit_vfr_bld_1'\n",
       "22. 'hematocrit_vfr_bld_1'\n",
       "23. 'age_at_rbc_ncnc_bld_1'\n",
       "24. 'rbc_ncnc_bld_1'\n",
       "25. 'age_at_wbc_ncnc_bld_1'\n",
       "26. 'wbc_ncnc_bld_1'\n",
       "27. 'age_at_basophil_ncnc_bld_1'\n",
       "28. 'basophil_ncnc_bld_1'\n",
       "29. 'age_at_eosinophil_ncnc_bld_1'\n",
       "30. 'eosinophil_ncnc_bld_1'\n",
       "31. 'age_at_neutrophil_ncnc_bld_1'\n",
       "32. 'neutrophil_ncnc_bld_1'\n",
       "33. 'age_at_lymphocyte_ncnc_bld_1'\n",
       "34. 'lymphocyte_ncnc_bld_1'\n",
       "35. 'age_at_monocyte_ncnc_bld_1'\n",
       "36. 'monocyte_ncnc_bld_1'\n",
       "37. 'age_at_platelet_ncnc_bld_1'\n",
       "38. 'platelet_ncnc_bld_1'\n",
       "39. 'age_at_mch_entmass_rbc_1'\n",
       "40. 'mch_entmass_rbc_1'\n",
       "41. 'age_at_mchc_mcnc_rbc_1'\n",
       "42. 'mchc_mcnc_rbc_1'\n",
       "43. 'age_at_mcv_entvol_rbc_1'\n",
       "44. 'mcv_entvol_rbc_1'\n",
       "45. 'age_at_pmv_entvol_bld_1'\n",
       "46. 'pmv_entvol_bld_1'\n",
       "47. 'age_at_rdw_ratio_rbc_1'\n",
       "48. 'rdw_ratio_rbc_1'\n",
       "\n",
       "\n"
      ],
      "text/plain": [
       " [1] \"sample.id\"                    \"total_pass_mut\"              \n",
       " [3] \"chip_case\"                    \"age\"                         \n",
       " [5] \"sex\"                          \"sex_dummy\"                   \n",
       " [7] \"mCAs\"                         \"mCA\"                         \n",
       " [9] \"cf\"                           \"mCA.w.arm\"                   \n",
       "[11] \"Autosomal\"                    \"Autosomal.Type\"              \n",
       "[13] \"pacer_covadj_int\"             \"pacer_covadj_int_norm\"       \n",
       "[15] \"Unnamed..0\"                   \"SUBJECT_ID\"                  \n",
       "[17] \"unique_subject_key\"           \"topmed_abbreviation\"         \n",
       "[19] \"age_at_hemoglobin_mcnc_bld_1\" \"hemoglobin_mcnc_bld_1\"       \n",
       "[21] \"age_at_hematocrit_vfr_bld_1\"  \"hematocrit_vfr_bld_1\"        \n",
       "[23] \"age_at_rbc_ncnc_bld_1\"        \"rbc_ncnc_bld_1\"              \n",
       "[25] \"age_at_wbc_ncnc_bld_1\"        \"wbc_ncnc_bld_1\"              \n",
       "[27] \"age_at_basophil_ncnc_bld_1\"   \"basophil_ncnc_bld_1\"         \n",
       "[29] \"age_at_eosinophil_ncnc_bld_1\" \"eosinophil_ncnc_bld_1\"       \n",
       "[31] \"age_at_neutrophil_ncnc_bld_1\" \"neutrophil_ncnc_bld_1\"       \n",
       "[33] \"age_at_lymphocyte_ncnc_bld_1\" \"lymphocyte_ncnc_bld_1\"       \n",
       "[35] \"age_at_monocyte_ncnc_bld_1\"   \"monocyte_ncnc_bld_1\"         \n",
       "[37] \"age_at_platelet_ncnc_bld_1\"   \"platelet_ncnc_bld_1\"         \n",
       "[39] \"age_at_mch_entmass_rbc_1\"     \"mch_entmass_rbc_1\"           \n",
       "[41] \"age_at_mchc_mcnc_rbc_1\"       \"mchc_mcnc_rbc_1\"             \n",
       "[43] \"age_at_mcv_entvol_rbc_1\"      \"mcv_entvol_rbc_1\"            \n",
       "[45] \"age_at_pmv_entvol_bld_1\"      \"pmv_entvol_bld_1\"            \n",
       "[47] \"age_at_rdw_ratio_rbc_1\"       \"rdw_ratio_rbc_1\"             "
      ]
     },
     "metadata": {},
     "output_type": "display_data"
    }
   ],
   "source": [
    "colnames(blood_df)"
   ]
  },
  {
   "cell_type": "code",
   "execution_count": 10,
   "metadata": {},
   "outputs": [
    {
     "name": "stderr",
     "output_type": "stream",
     "text": [
      "boundary (singular) fit: see help('isSingular')\n",
      "\n"
     ]
    },
    {
     "data": {
      "text/plain": [
       "Linear mixed model fit by REML ['lmerMod']\n",
       "Formula: wbc_ncnc_bld_1 ~ total_pass_mut + age + sex_dummy + chip_case +  \n",
       "    (1 + total_pass_mut | mCA)\n",
       "   Data: blood_df\n",
       "\n",
       "REML criterion at convergence: 4887.4\n",
       "\n",
       "Scaled residuals: \n",
       "    Min      1Q  Median      3Q     Max \n",
       "-5.0839 -0.4941 -0.1133  0.3662 11.0538 \n",
       "\n",
       "Random effects:\n",
       " Groups   Name           Variance  Std.Dev. Corr \n",
       " mCA      (Intercept)    1.4708357 1.21278       \n",
       "          total_pass_mut 0.0003411 0.01847  -1.00\n",
       " Residual                7.4772445 2.73446       \n",
       "Number of obs: 987, groups:  mCA, 84\n",
       "\n",
       "Fixed effects:\n",
       "                Estimate Std. Error t value\n",
       "(Intercept)     7.095040   0.530715  13.369\n",
       "total_pass_mut  0.008579   0.002942   2.916\n",
       "age            -0.017850   0.008067  -2.213\n",
       "sex_dummy       0.110212   0.178755   0.617\n",
       "chip_caseTrue  -0.179150   0.316732  -0.566\n",
       "\n",
       "Correlation of Fixed Effects:\n",
       "            (Intr) ttl_p_ age    sx_dmm\n",
       "totl_pss_mt -0.223                     \n",
       "age         -0.895 -0.156              \n",
       "sex_dummy   -0.108 -0.015 -0.064       \n",
       "chip_caseTr  0.057 -0.092 -0.072  0.018\n",
       "optimizer (nloptwrap) convergence code: 0 (OK)\n",
       "boundary (singular) fit: see help('isSingular')\n"
      ]
     },
     "metadata": {},
     "output_type": "display_data"
    }
   ],
   "source": [
    "res <- lmer(wbc_ncnc_bld_1 ~ total_pass_mut + age + sex_dummy + chip_case + (1+total_pass_mut|mCA), \n",
    "           REML = TRUE,\n",
    "           data = blood_df)\n",
    "summary(res)"
   ]
  },
  {
   "cell_type": "code",
   "execution_count": 11,
   "metadata": {},
   "outputs": [
    {
     "name": "stderr",
     "output_type": "stream",
     "text": [
      "Warning message:\n",
      "“'r.squaredGLMM' now calculates a revised statistic. See the help page.”\n"
     ]
    },
    {
     "data": {
      "text/html": [
       "<table class=\"dataframe\">\n",
       "<caption>A matrix: 1 × 2 of type dbl</caption>\n",
       "<thead>\n",
       "\t<tr><th scope=col>R2m</th><th scope=col>R2c</th></tr>\n",
       "</thead>\n",
       "<tbody>\n",
       "\t<tr><td>0.03770988</td><td>0.2571821</td></tr>\n",
       "</tbody>\n",
       "</table>\n"
      ],
      "text/latex": [
       "A matrix: 1 × 2 of type dbl\n",
       "\\begin{tabular}{ll}\n",
       " R2m & R2c\\\\\n",
       "\\hline\n",
       "\t 0.03770988 & 0.2571821\\\\\n",
       "\\end{tabular}\n"
      ],
      "text/markdown": [
       "\n",
       "A matrix: 1 × 2 of type dbl\n",
       "\n",
       "| R2m | R2c |\n",
       "|---|---|\n",
       "| 0.03770988 | 0.2571821 |\n",
       "\n"
      ],
      "text/plain": [
       "     R2m        R2c      \n",
       "[1,] 0.03770988 0.2571821"
      ]
     },
     "metadata": {},
     "output_type": "display_data"
    }
   ],
   "source": [
    "r.squaredGLMM(res)"
   ]
  },
  {
   "cell_type": "code",
   "execution_count": 12,
   "metadata": {},
   "outputs": [],
   "source": [
    "sjPlot::tab_model(res)"
   ]
  },
  {
   "cell_type": "code",
   "execution_count": 13,
   "metadata": {
    "scrolled": false
   },
   "outputs": [
    {
     "data": {
      "image/png": "[encoded data removed]",
      "text/plain": [
       "plot without title"
      ]
     },
     "metadata": {
      "image/png": {
       "height": 420,
       "width": 420
      }
     },
     "output_type": "display_data"
    }
   ],
   "source": [
    "sjPlot::plot_model(res,axis.labels=c(\"Total Passenger Mutations\", \"Age\", \"Sex\", \"CHIP (y/n)\"),\n",
    "                   show.values=TRUE, show.p=TRUE, title=\"Mixed Linear Model for WBC Counts\")"
   ]
  },
  {
   "cell_type": "code",
   "execution_count": null,
   "metadata": {},
   "outputs": [],
   "source": []
  }
 ],
 "metadata": {
  "kernelspec": {
   "display_name": "R",
   "language": "R",
   "name": "ir"
  },
  "language_info": {
   "codemirror_mode": "r",
   "file_extension": ".r",
   "mimetype": "text/x-r-source",
   "name": "R",
   "pygments_lexer": "r",
   "version": "4.2.0"
  },
  "toc": {
   "base_numbering": 1,
   "nav_menu": {},
   "number_sections": true,
   "sideBar": true,
   "skip_h1_title": false,
   "title_cell": "Table of Contents",
   "title_sidebar": "Contents",
   "toc_cell": false,
   "toc_position": {},
   "toc_section_display": true,
   "toc_window_display": false
  }
 },
 "nbformat": 4,
 "nbformat_minor": 2
}
